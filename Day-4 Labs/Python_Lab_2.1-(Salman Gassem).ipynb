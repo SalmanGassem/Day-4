{
 "cells": [
  {
   "cell_type": "markdown",
   "metadata": {
    "id": "x7F-mxeubDUG"
   },
   "source": [
    "# Python_Lab_2.1, Solved By (Salman Gassem)\n"
   ]
  },
  {
   "cell_type": "markdown",
   "metadata": {
    "id": "14c6Hn1BbDUH"
   },
   "source": [
    "### Task 1\n",
    "1. Write a function named is_prime that takes a number as a parameter and returns True if the number is prime and False otherwise. Print whether the number 29 is prime."
   ]
  },
  {
   "cell_type": "code",
   "execution_count": 103,
   "metadata": {
    "id": "5e_MZEN0bDUI"
   },
   "outputs": [
    {
     "name": "stdout",
     "output_type": "stream",
     "text": [
      "True\n"
     ]
    }
   ],
   "source": [
    "# Task 1\n",
    "def is_prime(number):\n",
    "    if number > 1:\n",
    "        for i in range(2, number):\n",
    "            if number % i == 0:\n",
    "                return False\n",
    "        return True\n",
    "            \n",
    "    else:\n",
    "        return False\n",
    "\n",
    "print(is_prime(29))"
   ]
  },
  {
   "cell_type": "markdown",
   "metadata": {
    "id": "2zKG8ZcybDUI"
   },
   "source": [
    "### Task 2\n",
    "1. Create a list of 10 numbers and sort them in descending order using the sort() function.\n",
    "2. Use the len() function to print the length of the sorted list.\n",
    "3. Use the zip() function to combine three lists (names, ages, and cities) into a list of tuples.\n",
    "4. Use the range() function to create a list of even numbers from 2 to 20 and print the list."
   ]
  },
  {
   "cell_type": "code",
   "execution_count": 54,
   "metadata": {},
   "outputs": [
    {
     "name": "stdout",
     "output_type": "stream",
     "text": [
      "Step 1, Descending order: [10, 9, 8, 7, 6, 5, 4, 3, 2, 1]\n",
      "\n"
     ]
    }
   ],
   "source": [
    "# Task2, step 1\n",
    "numbers_list = [x for x in range(1, 11)]\n",
    "\n",
    "numbers_list.sort(reverse=True)\n",
    "\n",
    "print(f'Step 1, Descending order: {numbers_list}\\n')"
   ]
  },
  {
   "cell_type": "code",
   "execution_count": 56,
   "metadata": {
    "id": "yyoe__M_bDUI"
   },
   "outputs": [
    {
     "name": "stdout",
     "output_type": "stream",
     "text": [
      "Step 2, Length: 10\n",
      "\n"
     ]
    }
   ],
   "source": [
    "# Task 2, step 2\n",
    "print(f'Step 2, Length: {len(numbers_list)}\\n')"
   ]
  },
  {
   "cell_type": "code",
   "execution_count": 55,
   "metadata": {},
   "outputs": [
    {
     "name": "stdout",
     "output_type": "stream",
     "text": [
      "Step 3, Combined lists into tuples: (('Salman', 11, 'Riyadh'), ('Ahmed', 12, 'Jeddah'), ('Hamad', 13, 'Makkah'), ('Omar', 14, 'Madina'))\n",
      "\n"
     ]
    }
   ],
   "source": [
    "# Task 2, step 3\n",
    "names = ['Salman', 'Ahmed', 'Hamad', 'Omar']\n",
    "ages = [11, 12, 13, 14]\n",
    "cities = ['Riyadh', 'Jeddah', 'Makkah', 'Madina']\n",
    "\n",
    "combined = tuple(zip(names, ages, cities))\n",
    "\n",
    "print(f'Step 3, Combined lists into tuples: {combined}\\n')"
   ]
  },
  {
   "cell_type": "code",
   "execution_count": 57,
   "metadata": {},
   "outputs": [
    {
     "name": "stdout",
     "output_type": "stream",
     "text": [
      "Step 4, Even numbers: [2, 4, 6, 8, 10, 12, 14, 16, 18, 20]\n"
     ]
    }
   ],
   "source": [
    "# Task 2, step 4\n",
    "even_numbers = [num for num in range(2, 21, 2)]\n",
    "\n",
    "print(f'Step 4, Even numbers: {even_numbers}')"
   ]
  },
  {
   "cell_type": "markdown",
   "metadata": {
    "id": "aStW5p7AbDUI"
   },
   "source": [
    "### Task 3\n",
    "Build a phone book program that receives the phone number, and returns the name of the owner.\n",
    "You can follow the table below:\n",
    "\n",
    "| Name     | Number     |\n",
    "| -------- | ---------- |\n",
    "| Amal     | 1111111111 |\n",
    "| Mohammed | 2222222222 |\n",
    "| Khadijah | 3333333333 |\n",
    "| Abdullah | 4444444444 |\n",
    "| Rawan    | 5555555555 |\n",
    "| Faisal   | 6666666666 |\n",
    "| Layla    | 7777777777 |\n",
    "\n",
    "- If the number exists, print the owner. Otherwise, print \"Sorry, the number is not found\".\n",
    "- If the number is less or more than 10 numbers, print \"This is invalid number\".\n",
    "- If the number contains letters or symbols, print \"This is invalid number\".\n"
   ]
  },
  {
   "cell_type": "code",
   "execution_count": 100,
   "metadata": {
    "id": "kvXmjUe-bDUJ"
   },
   "outputs": [
    {
     "name": "stdout",
     "output_type": "stream",
     "text": [
      "Owner found: Abdullah\n"
     ]
    }
   ],
   "source": [
    "# Task 3\n",
    "\n",
    "# dictionary holding names and numbers\n",
    "phone_book = {\n",
    "    'Amal': 1111111111,\n",
    "    'Mohammed': 2222222222,\n",
    "    'Khadijah': 3333333333,\n",
    "    'Abdullah': 4444444444,\n",
    "    'Rawan': 5555555555,\n",
    "    'Faisal': 6666666666,\n",
    "    'Layla': 7777777777\n",
    "}\n",
    "\n",
    "# function to find the owner name by their phone number if they are in the phone book\n",
    "def find_owner(number):\n",
    "    \n",
    "    # to check how many characters, converted to string to use len()\n",
    "    to_check = str(number)\n",
    "    \n",
    "    # checks if number is shorter or longer than 10 digits, and if it is not an integer\n",
    "    if len(to_check) < 10 or len(to_check) > 10 or not isinstance(number, int):\n",
    "        return \"This is invalid number\"\n",
    "    \n",
    "    # to find the owner using the provided phone number\n",
    "    for name, phone in phone_book.items():\n",
    "        if number == phone:\n",
    "            return f'Owner found: {name}'\n",
    "    return \"Sorry, the number is not found\"\n",
    "\n",
    "# insert your number here\n",
    "print(find_owner(4444444444))"
   ]
  },
  {
   "cell_type": "markdown",
   "metadata": {
    "id": "exLHQ28nbDUJ"
   },
   "source": [
    "### Task 4\n",
    "- Given the following list : [5, 4, 17, 19, 30, 2, 7, 10, 45]\n",
    "    1. Use a lambda function to filter out only the odd numbers.\n",
    "    2. Print the new list of odd numbers."
   ]
  },
  {
   "cell_type": "code",
   "execution_count": 101,
   "metadata": {
    "id": "64SUsh1cbDUJ"
   },
   "outputs": [],
   "source": [
    "# Task 4, step 1\n",
    "numbers = [5, 4, 17, 19, 30, 2, 7, 10, 45]\n",
    "\n",
    "odd_number = lambda number : number % 2 == 1 # returns True if odd\n",
    "\n",
    "new_list = [number for number in numbers if odd_number(number)]\n"
   ]
  },
  {
   "cell_type": "code",
   "execution_count": 102,
   "metadata": {},
   "outputs": [
    {
     "name": "stdout",
     "output_type": "stream",
     "text": [
      "Odd numbers list: [5, 17, 19, 7, 45]\n"
     ]
    }
   ],
   "source": [
    "# Task 4, step 2\n",
    "print(f'Odd numbers list: {new_list}')"
   ]
  }
 ],
 "metadata": {
  "colab": {
   "provenance": []
  },
  "kernelspec": {
   "display_name": "Python 3 (ipykernel)",
   "language": "python",
   "name": "python3"
  },
  "language_info": {
   "codemirror_mode": {
    "name": "ipython",
    "version": 3
   },
   "file_extension": ".py",
   "mimetype": "text/x-python",
   "name": "python",
   "nbconvert_exporter": "python",
   "pygments_lexer": "ipython3",
   "version": "3.11.5"
  }
 },
 "nbformat": 4,
 "nbformat_minor": 1
}
