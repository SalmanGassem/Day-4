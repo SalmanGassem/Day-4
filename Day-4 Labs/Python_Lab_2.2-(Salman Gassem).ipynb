{
 "cells": [
  {
   "cell_type": "markdown",
   "metadata": {
    "id": "E9Y5ss1ZYj3r"
   },
   "source": [
    "# Python_Lab_2.2, Solved By (Salman Gassem)\n"
   ]
  },
  {
   "cell_type": "markdown",
   "metadata": {
    "id": "Q1kAqc72Yj3t"
   },
   "source": [
    "### Task 1\n",
    "1. Write a program that prompts the user to enter two numbers and prints their division. Handle cases where the user enters non-numeric values or attempts to divide by zero using a try-except block.\n"
   ]
  },
  {
   "cell_type": "code",
   "execution_count": 164,
   "metadata": {
    "id": "H-xyoRTVYj3t"
   },
   "outputs": [
    {
     "name": "stdout",
     "output_type": "stream",
     "text": [
      "\n",
      "Please enter 2 numbers to divide them or 'q' to quit: \n",
      "> First number: 10\n",
      "> Second number: 5\n",
      "\n",
      "Result of 10.0 / 5.0 = 2.0\n"
     ]
    }
   ],
   "source": [
    "# Task 1 \n",
    "import time\n",
    "\n",
    "# Lambda function to divide 2 numbers\n",
    "divide = lambda num1, num2 : num1 / num2\n",
    "\n",
    "# function to print \"Restarting\" message\n",
    "def restart_msg():\n",
    "    print(\"Restarting\", end='')\n",
    "        \n",
    "    for i in range(3, 0, -1):\n",
    "        print('.', end='')\n",
    "        time.sleep(1)\n",
    "    print()\n",
    "\n",
    "# function to check if user wants to exit\n",
    "def quit(input):\n",
    "    if input == 'q':\n",
    "        print(\"\\n..Program stopped\")\n",
    "        return True\n",
    "\n",
    "# main program body\n",
    "while True:\n",
    "    try:\n",
    "        print(\"\\nPlease enter 2 numbers to divide them or 'q' to quit: \")\n",
    "        \n",
    "        # taking user input, exits if 'q'\n",
    "        user_input_1 = input(\"> First number: \")\n",
    "        if quit(user_input_1):\n",
    "            break\n",
    "        user_input_1 = float(user_input_1)\n",
    "        \n",
    "        # taking user input, exits if 'q'\n",
    "        user_input_2 = input(\"> Second number: \")\n",
    "        if quit(user_input_2):\n",
    "            break\n",
    "        user_input_2 = float(user_input_2)\n",
    "        \n",
    "        # division result\n",
    "        result = divide(user_input_1, user_input_2)\n",
    "        \n",
    "        # printing the result\n",
    "        print(f'\\nResult of {user_input_1} / {user_input_2} = {result}')\n",
    "        break\n",
    "        \n",
    "    except ZeroDivisionError: # handles division by zero\n",
    "        print(\"\\n*ERROR: Cannot divide by 0!\\n\")\n",
    "        restart_msg()\n",
    "        \n",
    "    except ValueError: # handles non-number input\n",
    "        print(\"\\n*ERROR: Only numbers are accepted!\\n\")\n",
    "        restart_msg()\n",
    "        \n",
    "    except Exception as e: # catches any other exceptions\n",
    "        print(f'\\n*ERROR: {e}!\\n')\n",
    "        restart_msg()\n"
   ]
  },
  {
   "cell_type": "markdown",
   "metadata": {
    "id": "CPWcDSC_Yj3u"
   },
   "source": [
    "## Task 2\n",
    "- Use \"Random\" library to do the following:\n",
    "    1. Create a list of random numbers using list comprehension.\n",
    "    2. Create a list of squares of the even numbers from random numbers using list comprehension.\n",
    "    3. Create a list of tuples (number, square) for random numbers using list comprehension."
   ]
  },
  {
   "cell_type": "code",
   "execution_count": 181,
   "metadata": {
    "id": "Yfq-i6CeYj3u"
   },
   "outputs": [
    {
     "name": "stdout",
     "output_type": "stream",
     "text": [
      "Random numbers list: [0, 1, 2, 3, 4, 5, 6, 7, 8, 9, 10, 11, 12, 13, 14, 15, 16, 17, 18, 19, 20, 21, 22, 23]\n"
     ]
    }
   ],
   "source": [
    "# Task 2, step 1\n",
    "import random\n",
    "\n",
    "random_numbers_1 = [number for number in range(random.randrange(1,50))]\n",
    "\n",
    "print(f'Random numbers list: {random_numbers_1}')"
   ]
  },
  {
   "cell_type": "code",
   "execution_count": 182,
   "metadata": {},
   "outputs": [
    {
     "name": "stdout",
     "output_type": "stream",
     "text": [
      "Random squared even numbers list: [0, 4, 16, 36, 64, 100, 144, 196]\n"
     ]
    }
   ],
   "source": [
    "# Task 2, step 2\n",
    "import random\n",
    "\n",
    "random_numbers_2 = [number**2 for number in range(random.randrange(1,50)) if number % 2 == 0]\n",
    "\n",
    "print(f'Random squared even numbers list: {random_numbers_2}')"
   ]
  },
  {
   "cell_type": "code",
   "execution_count": 180,
   "metadata": {},
   "outputs": [
    {
     "name": "stdout",
     "output_type": "stream",
     "text": [
      "Random list of Tuples: [(0, 0), (1, 1), (2, 4), (3, 9), (4, 16), (5, 25), (6, 36), (7, 49), (8, 64), (9, 81), (10, 100), (11, 121), (12, 144), (13, 169), (14, 196), (15, 225), (16, 256), (17, 289), (18, 324), (19, 361), (20, 400), (21, 441), (22, 484), (23, 529), (24, 576), (25, 625), (26, 676), (27, 729), (28, 784), (29, 841), (30, 900), (31, 961), (32, 1024), (33, 1089), (34, 1156), (35, 1225), (36, 1296), (37, 1369), (38, 1444), (39, 1521), (40, 1600), (41, 1681), (42, 1764), (43, 1849), (44, 1936), (45, 2025), (46, 2116), (47, 2209), (48, 2304)]\n"
     ]
    }
   ],
   "source": [
    "# Task 2, step 3\n",
    "import random\n",
    "\n",
    "random_numbers_3 = [(number, number**2) for number in range(random.randrange(1,50))]\n",
    "\n",
    "print(f'Random list of Tuples: {random_numbers_3}')"
   ]
  },
  {
   "cell_type": "markdown",
   "metadata": {
    "id": "jYdOq46NYj3u"
   },
   "source": [
    "### Task 3\n",
    "- Create a dictionary where the keys are numbers from 1 to 5 and the values are list of their squares and cubes.\n",
    "\n",
    "  - **hint**: use dictionary of list comprehension.\n",
    "\n",
    "- Create a dictionary from two lists (one with keys and one with values) using dictionary comprehension.\n",
    "\n"
   ]
  },
  {
   "cell_type": "code",
   "execution_count": 168,
   "metadata": {
    "id": "IEnsiNmCYj3u"
   },
   "outputs": [
    {
     "name": "stdout",
     "output_type": "stream",
     "text": [
      "{1: [1, 1], 2: [4, 8], 3: [9, 27], 4: [16, 64], 5: [25, 125]}\n"
     ]
    }
   ],
   "source": [
    "# Task 3, step 1\n",
    "numbers = [num for num in range(1, 6)]\n",
    "\n",
    "my_dict = {number: [number ** 2, number ** 3] for number in numbers}\n",
    "\n",
    "print(my_dict)"
   ]
  },
  {
   "cell_type": "code",
   "execution_count": 183,
   "metadata": {},
   "outputs": [
    {
     "name": "stdout",
     "output_type": "stream",
     "text": [
      "{'name': 'Ahmed', 'age': 22, 'student': True, 'gender': 'Male'}\n"
     ]
    }
   ],
   "source": [
    "# Task 3, step 2\n",
    "list_1 = ['name', 'age', 'student', 'gender']\n",
    "list_2 = ['Ahmed', 22, True, 'Male']\n",
    "\n",
    "new_dict = {key:value for key, value in zip(list_1, list_2)}\n",
    "\n",
    "print(new_dict)"
   ]
  },
  {
   "cell_type": "markdown",
   "metadata": {
    "id": "6T9TCQ8SYj3v"
   },
   "source": [
    "### Task 4\n",
    "- Given a dictionary where keys are student names and values are lists of their scores, write a function that updates the scores of students who have achieved a perfect score (100) by adding a bonus of 5 points to each score. Use dictionary comprehension to achieve this.\n",
    "\n",
    "    - Implement the function add_bonus_to_perfect_scores(student_scores) that adds a bonus of 5 points to each score of students who have achieved a perfect score (100)."
   ]
  },
  {
   "cell_type": "code",
   "execution_count": 170,
   "metadata": {
    "id": "T3R_VsQpYj3v"
   },
   "outputs": [
    {
     "name": "stdout",
     "output_type": "stream",
     "text": [
      "Step 1 dictionary: \n",
      "{'Amal': [25, 20, 35, 30, 15], 'Khadijah': [25, 20, 35, 30, 15], 'Layla': [25, 20, 35, 30, 15]}\n",
      "\n"
     ]
    }
   ],
   "source": [
    "students_dict = {\n",
    "    'Amal': [20, 15, 30, 25, 10],\n",
    "    'Mohammed': [20, 14, 30, 25, 10],\n",
    "    'Khadijah': [20, 15, 30, 25, 10],\n",
    "    'Abdullah': [15, 15, 30, 15, 10],\n",
    "    'Rawan': [20, 1, 3, 5, 10],\n",
    "    'Faisal': [20, 15, 0, 25, 10],\n",
    "    'Layla': [20, 15, 30, 25, 10]\n",
    "}\n",
    "\n",
    "# Task 4, step 1\n",
    "new_dict_1 = {key:[score + 5 for score in value] for key, value in students_dict.items() if sum(value) == 100}\n",
    "\n",
    "print(f'Step 1 dictionary: \\n{new_dict_1}\\n')\n"
   ]
  },
  {
   "cell_type": "code",
   "execution_count": 171,
   "metadata": {},
   "outputs": [
    {
     "name": "stdout",
     "output_type": "stream",
     "text": [
      "Step 2 dictionary: \n",
      "{'Amal': [25, 20, 35, 30, 15], 'Mohammed': [20, 14, 30, 25, 10], 'Khadijah': [25, 20, 35, 30, 15], 'Abdullah': [15, 15, 30, 15, 10], 'Rawan': [20, 1, 3, 5, 10], 'Faisal': [20, 15, 0, 25, 10], 'Layla': [25, 20, 35, 30, 15]}\n"
     ]
    }
   ],
   "source": [
    "# Task 4, step 2\n",
    "def add_bonus_to_perfect_scores(student_scores):\n",
    "    for key, value in student_scores.items():\n",
    "        if sum(value) == 100:\n",
    "            student_scores[key] = [score + 5 for score in value]\n",
    "    return student_scores\n",
    "\n",
    "new_dict_2 = add_bonus_to_perfect_scores(students_dict)\n",
    "\n",
    "print(f'Step 2 dictionary: \\n{new_dict_2}')"
   ]
  }
 ],
 "metadata": {
  "colab": {
   "provenance": []
  },
  "kernelspec": {
   "display_name": "Python 3 (ipykernel)",
   "language": "python",
   "name": "python3"
  },
  "language_info": {
   "codemirror_mode": {
    "name": "ipython",
    "version": 3
   },
   "file_extension": ".py",
   "mimetype": "text/x-python",
   "name": "python",
   "nbconvert_exporter": "python",
   "pygments_lexer": "ipython3",
   "version": "3.11.5"
  }
 },
 "nbformat": 4,
 "nbformat_minor": 1
}
